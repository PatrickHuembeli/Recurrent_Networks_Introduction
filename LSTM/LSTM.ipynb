{
 "cells": [
  {
   "cell_type": "markdown",
   "metadata": {},
   "source": [
    "## Test LSTMs on Stock Market Prices.\n",
    "\n",
    "The data set we use here are the GE stock prices of the last 50 years. [Source](https://www.kaggle.com/darkknight91/ge-stock/kernels)"
   ]
  },
  {
   "cell_type": "code",
   "execution_count": 31,
   "metadata": {},
   "outputs": [],
   "source": [
    "import pandas as pd\n",
    "import numpy as np\n",
    "data = pd.read_csv('ge.us.txt')"
   ]
  },
  {
   "cell_type": "code",
   "execution_count": 180,
   "metadata": {},
   "outputs": [
    {
     "data": {
      "text/html": [
       "<div>\n",
       "<style scoped>\n",
       "    .dataframe tbody tr th:only-of-type {\n",
       "        vertical-align: middle;\n",
       "    }\n",
       "\n",
       "    .dataframe tbody tr th {\n",
       "        vertical-align: top;\n",
       "    }\n",
       "\n",
       "    .dataframe thead th {\n",
       "        text-align: right;\n",
       "    }\n",
       "</style>\n",
       "<table border=\"1\" class=\"dataframe\">\n",
       "  <thead>\n",
       "    <tr style=\"text-align: right;\">\n",
       "      <th></th>\n",
       "      <th>Date</th>\n",
       "      <th>Open</th>\n",
       "      <th>High</th>\n",
       "      <th>Low</th>\n",
       "      <th>Close</th>\n",
       "      <th>Volume</th>\n",
       "      <th>OpenInt</th>\n",
       "    </tr>\n",
       "  </thead>\n",
       "  <tbody>\n",
       "    <tr>\n",
       "      <th>0</th>\n",
       "      <td>1962-01-02</td>\n",
       "      <td>0.6277</td>\n",
       "      <td>0.6362</td>\n",
       "      <td>0.6201</td>\n",
       "      <td>0.6201</td>\n",
       "      <td>2575579</td>\n",
       "      <td>0</td>\n",
       "    </tr>\n",
       "    <tr>\n",
       "      <th>1</th>\n",
       "      <td>1962-01-03</td>\n",
       "      <td>0.6201</td>\n",
       "      <td>0.6201</td>\n",
       "      <td>0.6122</td>\n",
       "      <td>0.6201</td>\n",
       "      <td>1764749</td>\n",
       "      <td>0</td>\n",
       "    </tr>\n",
       "    <tr>\n",
       "      <th>2</th>\n",
       "      <td>1962-01-04</td>\n",
       "      <td>0.6201</td>\n",
       "      <td>0.6201</td>\n",
       "      <td>0.6037</td>\n",
       "      <td>0.6122</td>\n",
       "      <td>2194010</td>\n",
       "      <td>0</td>\n",
       "    </tr>\n",
       "    <tr>\n",
       "      <th>3</th>\n",
       "      <td>1962-01-05</td>\n",
       "      <td>0.6122</td>\n",
       "      <td>0.6122</td>\n",
       "      <td>0.5798</td>\n",
       "      <td>0.5957</td>\n",
       "      <td>3255244</td>\n",
       "      <td>0</td>\n",
       "    </tr>\n",
       "    <tr>\n",
       "      <th>4</th>\n",
       "      <td>1962-01-08</td>\n",
       "      <td>0.5957</td>\n",
       "      <td>0.5957</td>\n",
       "      <td>0.5716</td>\n",
       "      <td>0.5957</td>\n",
       "      <td>3696430</td>\n",
       "      <td>0</td>\n",
       "    </tr>\n",
       "    <tr>\n",
       "      <th>5</th>\n",
       "      <td>1962-01-09</td>\n",
       "      <td>0.5957</td>\n",
       "      <td>0.6037</td>\n",
       "      <td>0.5878</td>\n",
       "      <td>0.5957</td>\n",
       "      <td>2778285</td>\n",
       "      <td>0</td>\n",
       "    </tr>\n",
       "    <tr>\n",
       "      <th>6</th>\n",
       "      <td>1962-01-10</td>\n",
       "      <td>0.5957</td>\n",
       "      <td>0.6037</td>\n",
       "      <td>0.5957</td>\n",
       "      <td>0.5957</td>\n",
       "      <td>2337096</td>\n",
       "      <td>0</td>\n",
       "    </tr>\n",
       "    <tr>\n",
       "      <th>7</th>\n",
       "      <td>1962-01-11</td>\n",
       "      <td>0.5957</td>\n",
       "      <td>0.5957</td>\n",
       "      <td>0.5878</td>\n",
       "      <td>0.5957</td>\n",
       "      <td>1943605</td>\n",
       "      <td>0</td>\n",
       "    </tr>\n",
       "    <tr>\n",
       "      <th>8</th>\n",
       "      <td>1962-01-12</td>\n",
       "      <td>0.5957</td>\n",
       "      <td>0.6037</td>\n",
       "      <td>0.5878</td>\n",
       "      <td>0.5878</td>\n",
       "      <td>2015151</td>\n",
       "      <td>0</td>\n",
       "    </tr>\n",
       "    <tr>\n",
       "      <th>9</th>\n",
       "      <td>1962-01-15</td>\n",
       "      <td>0.5957</td>\n",
       "      <td>0.5957</td>\n",
       "      <td>0.5957</td>\n",
       "      <td>0.5957</td>\n",
       "      <td>2527879</td>\n",
       "      <td>0</td>\n",
       "    </tr>\n",
       "    <tr>\n",
       "      <th>10</th>\n",
       "      <td>1962-01-16</td>\n",
       "      <td>0.5957</td>\n",
       "      <td>0.6037</td>\n",
       "      <td>0.5957</td>\n",
       "      <td>0.6037</td>\n",
       "      <td>1657434</td>\n",
       "      <td>0</td>\n",
       "    </tr>\n",
       "    <tr>\n",
       "      <th>11</th>\n",
       "      <td>1962-01-17</td>\n",
       "      <td>0.6037</td>\n",
       "      <td>0.6037</td>\n",
       "      <td>0.5878</td>\n",
       "      <td>0.5878</td>\n",
       "      <td>2551729</td>\n",
       "      <td>0</td>\n",
       "    </tr>\n",
       "    <tr>\n",
       "      <th>12</th>\n",
       "      <td>1962-01-18</td>\n",
       "      <td>0.5878</td>\n",
       "      <td>0.5957</td>\n",
       "      <td>0.5878</td>\n",
       "      <td>0.5957</td>\n",
       "      <td>1764749</td>\n",
       "      <td>0</td>\n",
       "    </tr>\n",
       "    <tr>\n",
       "      <th>13</th>\n",
       "      <td>1962-01-19</td>\n",
       "      <td>0.5957</td>\n",
       "      <td>0.6037</td>\n",
       "      <td>0.5957</td>\n",
       "      <td>0.6037</td>\n",
       "      <td>1585893</td>\n",
       "      <td>0</td>\n",
       "    </tr>\n",
       "    <tr>\n",
       "      <th>14</th>\n",
       "      <td>1962-01-22</td>\n",
       "      <td>0.6037</td>\n",
       "      <td>0.6122</td>\n",
       "      <td>0.6037</td>\n",
       "      <td>0.6037</td>\n",
       "      <td>1693206</td>\n",
       "      <td>0</td>\n",
       "    </tr>\n",
       "    <tr>\n",
       "      <th>15</th>\n",
       "      <td>1962-01-23</td>\n",
       "      <td>0.6037</td>\n",
       "      <td>0.6037</td>\n",
       "      <td>0.5878</td>\n",
       "      <td>0.5878</td>\n",
       "      <td>2718664</td>\n",
       "      <td>0</td>\n",
       "    </tr>\n",
       "    <tr>\n",
       "      <th>16</th>\n",
       "      <td>1962-01-24</td>\n",
       "      <td>0.5878</td>\n",
       "      <td>0.6037</td>\n",
       "      <td>0.5878</td>\n",
       "      <td>0.6037</td>\n",
       "      <td>1907836</td>\n",
       "      <td>0</td>\n",
       "    </tr>\n",
       "    <tr>\n",
       "      <th>17</th>\n",
       "      <td>1962-01-25</td>\n",
       "      <td>0.6037</td>\n",
       "      <td>0.6037</td>\n",
       "      <td>0.5957</td>\n",
       "      <td>0.5957</td>\n",
       "      <td>1895910</td>\n",
       "      <td>0</td>\n",
       "    </tr>\n",
       "    <tr>\n",
       "      <th>18</th>\n",
       "      <td>1962-01-26</td>\n",
       "      <td>0.5957</td>\n",
       "      <td>0.5957</td>\n",
       "      <td>0.5957</td>\n",
       "      <td>0.5957</td>\n",
       "      <td>1204322</td>\n",
       "      <td>0</td>\n",
       "    </tr>\n",
       "    <tr>\n",
       "      <th>19</th>\n",
       "      <td>1962-01-29</td>\n",
       "      <td>0.5957</td>\n",
       "      <td>0.5957</td>\n",
       "      <td>0.5957</td>\n",
       "      <td>0.5957</td>\n",
       "      <td>1216242</td>\n",
       "      <td>0</td>\n",
       "    </tr>\n",
       "    <tr>\n",
       "      <th>20</th>\n",
       "      <td>1962-01-30</td>\n",
       "      <td>0.6037</td>\n",
       "      <td>0.6122</td>\n",
       "      <td>0.6037</td>\n",
       "      <td>0.6037</td>\n",
       "      <td>2122467</td>\n",
       "      <td>0</td>\n",
       "    </tr>\n",
       "    <tr>\n",
       "      <th>21</th>\n",
       "      <td>1962-01-31</td>\n",
       "      <td>0.6037</td>\n",
       "      <td>0.6277</td>\n",
       "      <td>0.6037</td>\n",
       "      <td>0.6277</td>\n",
       "      <td>2241705</td>\n",
       "      <td>0</td>\n",
       "    </tr>\n",
       "    <tr>\n",
       "      <th>22</th>\n",
       "      <td>1962-02-01</td>\n",
       "      <td>0.6277</td>\n",
       "      <td>0.6277</td>\n",
       "      <td>0.6122</td>\n",
       "      <td>0.6201</td>\n",
       "      <td>3064461</td>\n",
       "      <td>0</td>\n",
       "    </tr>\n",
       "    <tr>\n",
       "      <th>23</th>\n",
       "      <td>1962-02-02</td>\n",
       "      <td>0.6201</td>\n",
       "      <td>0.6201</td>\n",
       "      <td>0.6201</td>\n",
       "      <td>0.6201</td>\n",
       "      <td>1764749</td>\n",
       "      <td>0</td>\n",
       "    </tr>\n",
       "    <tr>\n",
       "      <th>24</th>\n",
       "      <td>1962-02-05</td>\n",
       "      <td>0.6201</td>\n",
       "      <td>0.6201</td>\n",
       "      <td>0.6122</td>\n",
       "      <td>0.6122</td>\n",
       "      <td>1681280</td>\n",
       "      <td>0</td>\n",
       "    </tr>\n",
       "    <tr>\n",
       "      <th>25</th>\n",
       "      <td>1962-02-06</td>\n",
       "      <td>0.6122</td>\n",
       "      <td>0.6201</td>\n",
       "      <td>0.6122</td>\n",
       "      <td>0.6201</td>\n",
       "      <td>1240089</td>\n",
       "      <td>0</td>\n",
       "    </tr>\n",
       "    <tr>\n",
       "      <th>26</th>\n",
       "      <td>1962-02-07</td>\n",
       "      <td>0.6201</td>\n",
       "      <td>0.6277</td>\n",
       "      <td>0.6201</td>\n",
       "      <td>0.6277</td>\n",
       "      <td>2015151</td>\n",
       "      <td>0</td>\n",
       "    </tr>\n",
       "    <tr>\n",
       "      <th>27</th>\n",
       "      <td>1962-02-08</td>\n",
       "      <td>0.6277</td>\n",
       "      <td>0.6277</td>\n",
       "      <td>0.6201</td>\n",
       "      <td>0.6277</td>\n",
       "      <td>2098620</td>\n",
       "      <td>0</td>\n",
       "    </tr>\n",
       "    <tr>\n",
       "      <th>28</th>\n",
       "      <td>1962-02-09</td>\n",
       "      <td>0.6277</td>\n",
       "      <td>0.6277</td>\n",
       "      <td>0.6201</td>\n",
       "      <td>0.6277</td>\n",
       "      <td>1800521</td>\n",
       "      <td>0</td>\n",
       "    </tr>\n",
       "    <tr>\n",
       "      <th>29</th>\n",
       "      <td>1962-02-12</td>\n",
       "      <td>0.6277</td>\n",
       "      <td>0.6277</td>\n",
       "      <td>0.6201</td>\n",
       "      <td>0.6277</td>\n",
       "      <td>977764</td>\n",
       "      <td>0</td>\n",
       "    </tr>\n",
       "    <tr>\n",
       "      <th>...</th>\n",
       "      <td>...</td>\n",
       "      <td>...</td>\n",
       "      <td>...</td>\n",
       "      <td>...</td>\n",
       "      <td>...</td>\n",
       "      <td>...</td>\n",
       "      <td>...</td>\n",
       "    </tr>\n",
       "    <tr>\n",
       "      <th>14028</th>\n",
       "      <td>2017-10-02</td>\n",
       "      <td>24.2200</td>\n",
       "      <td>24.6100</td>\n",
       "      <td>24.1000</td>\n",
       "      <td>24.5700</td>\n",
       "      <td>42492891</td>\n",
       "      <td>0</td>\n",
       "    </tr>\n",
       "    <tr>\n",
       "      <th>14029</th>\n",
       "      <td>2017-10-03</td>\n",
       "      <td>24.6100</td>\n",
       "      <td>24.8300</td>\n",
       "      <td>24.3300</td>\n",
       "      <td>24.8000</td>\n",
       "      <td>33882815</td>\n",
       "      <td>0</td>\n",
       "    </tr>\n",
       "    <tr>\n",
       "      <th>14030</th>\n",
       "      <td>2017-10-04</td>\n",
       "      <td>24.8800</td>\n",
       "      <td>24.8900</td>\n",
       "      <td>24.4300</td>\n",
       "      <td>24.4800</td>\n",
       "      <td>32111390</td>\n",
       "      <td>0</td>\n",
       "    </tr>\n",
       "    <tr>\n",
       "      <th>14031</th>\n",
       "      <td>2017-10-05</td>\n",
       "      <td>24.3900</td>\n",
       "      <td>24.5700</td>\n",
       "      <td>24.1500</td>\n",
       "      <td>24.5400</td>\n",
       "      <td>34755184</td>\n",
       "      <td>0</td>\n",
       "    </tr>\n",
       "    <tr>\n",
       "      <th>14032</th>\n",
       "      <td>2017-10-06</td>\n",
       "      <td>24.4100</td>\n",
       "      <td>24.5400</td>\n",
       "      <td>24.1300</td>\n",
       "      <td>24.3900</td>\n",
       "      <td>40678189</td>\n",
       "      <td>0</td>\n",
       "    </tr>\n",
       "    <tr>\n",
       "      <th>14033</th>\n",
       "      <td>2017-10-09</td>\n",
       "      <td>24.1000</td>\n",
       "      <td>24.1500</td>\n",
       "      <td>23.2500</td>\n",
       "      <td>23.4300</td>\n",
       "      <td>140226449</td>\n",
       "      <td>0</td>\n",
       "    </tr>\n",
       "    <tr>\n",
       "      <th>14034</th>\n",
       "      <td>2017-10-10</td>\n",
       "      <td>23.7000</td>\n",
       "      <td>23.7000</td>\n",
       "      <td>23.3200</td>\n",
       "      <td>23.3600</td>\n",
       "      <td>80976303</td>\n",
       "      <td>0</td>\n",
       "    </tr>\n",
       "    <tr>\n",
       "      <th>14035</th>\n",
       "      <td>2017-10-11</td>\n",
       "      <td>23.1300</td>\n",
       "      <td>23.1300</td>\n",
       "      <td>22.9000</td>\n",
       "      <td>23.0700</td>\n",
       "      <td>81158742</td>\n",
       "      <td>0</td>\n",
       "    </tr>\n",
       "    <tr>\n",
       "      <th>14036</th>\n",
       "      <td>2017-10-12</td>\n",
       "      <td>23.0500</td>\n",
       "      <td>23.0600</td>\n",
       "      <td>22.8300</td>\n",
       "      <td>23.0500</td>\n",
       "      <td>60364842</td>\n",
       "      <td>0</td>\n",
       "    </tr>\n",
       "    <tr>\n",
       "      <th>14037</th>\n",
       "      <td>2017-10-13</td>\n",
       "      <td>23.1500</td>\n",
       "      <td>23.1500</td>\n",
       "      <td>22.9600</td>\n",
       "      <td>22.9800</td>\n",
       "      <td>40360992</td>\n",
       "      <td>0</td>\n",
       "    </tr>\n",
       "    <tr>\n",
       "      <th>14038</th>\n",
       "      <td>2017-10-16</td>\n",
       "      <td>22.9900</td>\n",
       "      <td>23.4800</td>\n",
       "      <td>22.9300</td>\n",
       "      <td>23.3600</td>\n",
       "      <td>49721131</td>\n",
       "      <td>0</td>\n",
       "    </tr>\n",
       "    <tr>\n",
       "      <th>14039</th>\n",
       "      <td>2017-10-17</td>\n",
       "      <td>23.2200</td>\n",
       "      <td>23.2500</td>\n",
       "      <td>23.0000</td>\n",
       "      <td>23.1900</td>\n",
       "      <td>58154514</td>\n",
       "      <td>0</td>\n",
       "    </tr>\n",
       "    <tr>\n",
       "      <th>14040</th>\n",
       "      <td>2017-10-18</td>\n",
       "      <td>23.2000</td>\n",
       "      <td>23.2800</td>\n",
       "      <td>23.0700</td>\n",
       "      <td>23.1200</td>\n",
       "      <td>34921952</td>\n",
       "      <td>0</td>\n",
       "    </tr>\n",
       "    <tr>\n",
       "      <th>14041</th>\n",
       "      <td>2017-10-19</td>\n",
       "      <td>23.1400</td>\n",
       "      <td>23.7800</td>\n",
       "      <td>23.0500</td>\n",
       "      <td>23.5800</td>\n",
       "      <td>75252269</td>\n",
       "      <td>0</td>\n",
       "    </tr>\n",
       "    <tr>\n",
       "      <th>14042</th>\n",
       "      <td>2017-10-20</td>\n",
       "      <td>22.1400</td>\n",
       "      <td>23.8400</td>\n",
       "      <td>22.1000</td>\n",
       "      <td>23.8300</td>\n",
       "      <td>192116257</td>\n",
       "      <td>0</td>\n",
       "    </tr>\n",
       "    <tr>\n",
       "      <th>14043</th>\n",
       "      <td>2017-10-23</td>\n",
       "      <td>23.4400</td>\n",
       "      <td>23.4400</td>\n",
       "      <td>22.1800</td>\n",
       "      <td>22.3200</td>\n",
       "      <td>187258901</td>\n",
       "      <td>0</td>\n",
       "    </tr>\n",
       "    <tr>\n",
       "      <th>14044</th>\n",
       "      <td>2017-10-24</td>\n",
       "      <td>22.1200</td>\n",
       "      <td>22.3100</td>\n",
       "      <td>21.7500</td>\n",
       "      <td>21.8900</td>\n",
       "      <td>133232811</td>\n",
       "      <td>0</td>\n",
       "    </tr>\n",
       "    <tr>\n",
       "      <th>14045</th>\n",
       "      <td>2017-10-25</td>\n",
       "      <td>21.8400</td>\n",
       "      <td>21.8900</td>\n",
       "      <td>21.3000</td>\n",
       "      <td>21.5000</td>\n",
       "      <td>110406798</td>\n",
       "      <td>0</td>\n",
       "    </tr>\n",
       "    <tr>\n",
       "      <th>14046</th>\n",
       "      <td>2017-10-26</td>\n",
       "      <td>21.5700</td>\n",
       "      <td>21.6500</td>\n",
       "      <td>21.2000</td>\n",
       "      <td>21.3200</td>\n",
       "      <td>85588279</td>\n",
       "      <td>0</td>\n",
       "    </tr>\n",
       "    <tr>\n",
       "      <th>14047</th>\n",
       "      <td>2017-10-27</td>\n",
       "      <td>21.2600</td>\n",
       "      <td>21.3000</td>\n",
       "      <td>20.6400</td>\n",
       "      <td>20.7900</td>\n",
       "      <td>98473460</td>\n",
       "      <td>0</td>\n",
       "    </tr>\n",
       "    <tr>\n",
       "      <th>14048</th>\n",
       "      <td>2017-10-30</td>\n",
       "      <td>20.5800</td>\n",
       "      <td>20.7200</td>\n",
       "      <td>20.2600</td>\n",
       "      <td>20.4100</td>\n",
       "      <td>98376937</td>\n",
       "      <td>0</td>\n",
       "    </tr>\n",
       "    <tr>\n",
       "      <th>14049</th>\n",
       "      <td>2017-10-31</td>\n",
       "      <td>20.2600</td>\n",
       "      <td>20.4000</td>\n",
       "      <td>20.0500</td>\n",
       "      <td>20.1600</td>\n",
       "      <td>97991348</td>\n",
       "      <td>0</td>\n",
       "    </tr>\n",
       "    <tr>\n",
       "      <th>14050</th>\n",
       "      <td>2017-11-01</td>\n",
       "      <td>20.0700</td>\n",
       "      <td>20.5200</td>\n",
       "      <td>19.9600</td>\n",
       "      <td>20.0200</td>\n",
       "      <td>91707602</td>\n",
       "      <td>0</td>\n",
       "    </tr>\n",
       "    <tr>\n",
       "      <th>14051</th>\n",
       "      <td>2017-11-02</td>\n",
       "      <td>20.0500</td>\n",
       "      <td>20.0750</td>\n",
       "      <td>19.6300</td>\n",
       "      <td>19.9400</td>\n",
       "      <td>81528545</td>\n",
       "      <td>0</td>\n",
       "    </tr>\n",
       "    <tr>\n",
       "      <th>14052</th>\n",
       "      <td>2017-11-03</td>\n",
       "      <td>19.9200</td>\n",
       "      <td>20.3300</td>\n",
       "      <td>19.8600</td>\n",
       "      <td>20.1400</td>\n",
       "      <td>67855385</td>\n",
       "      <td>0</td>\n",
       "    </tr>\n",
       "    <tr>\n",
       "      <th>14053</th>\n",
       "      <td>2017-11-06</td>\n",
       "      <td>20.5200</td>\n",
       "      <td>20.5300</td>\n",
       "      <td>20.0800</td>\n",
       "      <td>20.1300</td>\n",
       "      <td>60641787</td>\n",
       "      <td>0</td>\n",
       "    </tr>\n",
       "    <tr>\n",
       "      <th>14054</th>\n",
       "      <td>2017-11-07</td>\n",
       "      <td>20.1700</td>\n",
       "      <td>20.2500</td>\n",
       "      <td>20.1200</td>\n",
       "      <td>20.2100</td>\n",
       "      <td>41622851</td>\n",
       "      <td>0</td>\n",
       "    </tr>\n",
       "    <tr>\n",
       "      <th>14055</th>\n",
       "      <td>2017-11-08</td>\n",
       "      <td>20.2100</td>\n",
       "      <td>20.3200</td>\n",
       "      <td>20.0700</td>\n",
       "      <td>20.1200</td>\n",
       "      <td>39672190</td>\n",
       "      <td>0</td>\n",
       "    </tr>\n",
       "    <tr>\n",
       "      <th>14056</th>\n",
       "      <td>2017-11-09</td>\n",
       "      <td>20.0400</td>\n",
       "      <td>20.0710</td>\n",
       "      <td>19.8500</td>\n",
       "      <td>19.9900</td>\n",
       "      <td>50831779</td>\n",
       "      <td>0</td>\n",
       "    </tr>\n",
       "    <tr>\n",
       "      <th>14057</th>\n",
       "      <td>2017-11-10</td>\n",
       "      <td>19.9800</td>\n",
       "      <td>20.6800</td>\n",
       "      <td>19.9000</td>\n",
       "      <td>20.4900</td>\n",
       "      <td>100698474</td>\n",
       "      <td>0</td>\n",
       "    </tr>\n",
       "  </tbody>\n",
       "</table>\n",
       "<p>14058 rows × 7 columns</p>\n",
       "</div>"
      ],
      "text/plain": [
       "             Date     Open     High      Low    Close     Volume  OpenInt\n",
       "0      1962-01-02   0.6277   0.6362   0.6201   0.6201    2575579        0\n",
       "1      1962-01-03   0.6201   0.6201   0.6122   0.6201    1764749        0\n",
       "2      1962-01-04   0.6201   0.6201   0.6037   0.6122    2194010        0\n",
       "3      1962-01-05   0.6122   0.6122   0.5798   0.5957    3255244        0\n",
       "4      1962-01-08   0.5957   0.5957   0.5716   0.5957    3696430        0\n",
       "5      1962-01-09   0.5957   0.6037   0.5878   0.5957    2778285        0\n",
       "6      1962-01-10   0.5957   0.6037   0.5957   0.5957    2337096        0\n",
       "7      1962-01-11   0.5957   0.5957   0.5878   0.5957    1943605        0\n",
       "8      1962-01-12   0.5957   0.6037   0.5878   0.5878    2015151        0\n",
       "9      1962-01-15   0.5957   0.5957   0.5957   0.5957    2527879        0\n",
       "10     1962-01-16   0.5957   0.6037   0.5957   0.6037    1657434        0\n",
       "11     1962-01-17   0.6037   0.6037   0.5878   0.5878    2551729        0\n",
       "12     1962-01-18   0.5878   0.5957   0.5878   0.5957    1764749        0\n",
       "13     1962-01-19   0.5957   0.6037   0.5957   0.6037    1585893        0\n",
       "14     1962-01-22   0.6037   0.6122   0.6037   0.6037    1693206        0\n",
       "15     1962-01-23   0.6037   0.6037   0.5878   0.5878    2718664        0\n",
       "16     1962-01-24   0.5878   0.6037   0.5878   0.6037    1907836        0\n",
       "17     1962-01-25   0.6037   0.6037   0.5957   0.5957    1895910        0\n",
       "18     1962-01-26   0.5957   0.5957   0.5957   0.5957    1204322        0\n",
       "19     1962-01-29   0.5957   0.5957   0.5957   0.5957    1216242        0\n",
       "20     1962-01-30   0.6037   0.6122   0.6037   0.6037    2122467        0\n",
       "21     1962-01-31   0.6037   0.6277   0.6037   0.6277    2241705        0\n",
       "22     1962-02-01   0.6277   0.6277   0.6122   0.6201    3064461        0\n",
       "23     1962-02-02   0.6201   0.6201   0.6201   0.6201    1764749        0\n",
       "24     1962-02-05   0.6201   0.6201   0.6122   0.6122    1681280        0\n",
       "25     1962-02-06   0.6122   0.6201   0.6122   0.6201    1240089        0\n",
       "26     1962-02-07   0.6201   0.6277   0.6201   0.6277    2015151        0\n",
       "27     1962-02-08   0.6277   0.6277   0.6201   0.6277    2098620        0\n",
       "28     1962-02-09   0.6277   0.6277   0.6201   0.6277    1800521        0\n",
       "29     1962-02-12   0.6277   0.6277   0.6201   0.6277     977764        0\n",
       "...           ...      ...      ...      ...      ...        ...      ...\n",
       "14028  2017-10-02  24.2200  24.6100  24.1000  24.5700   42492891        0\n",
       "14029  2017-10-03  24.6100  24.8300  24.3300  24.8000   33882815        0\n",
       "14030  2017-10-04  24.8800  24.8900  24.4300  24.4800   32111390        0\n",
       "14031  2017-10-05  24.3900  24.5700  24.1500  24.5400   34755184        0\n",
       "14032  2017-10-06  24.4100  24.5400  24.1300  24.3900   40678189        0\n",
       "14033  2017-10-09  24.1000  24.1500  23.2500  23.4300  140226449        0\n",
       "14034  2017-10-10  23.7000  23.7000  23.3200  23.3600   80976303        0\n",
       "14035  2017-10-11  23.1300  23.1300  22.9000  23.0700   81158742        0\n",
       "14036  2017-10-12  23.0500  23.0600  22.8300  23.0500   60364842        0\n",
       "14037  2017-10-13  23.1500  23.1500  22.9600  22.9800   40360992        0\n",
       "14038  2017-10-16  22.9900  23.4800  22.9300  23.3600   49721131        0\n",
       "14039  2017-10-17  23.2200  23.2500  23.0000  23.1900   58154514        0\n",
       "14040  2017-10-18  23.2000  23.2800  23.0700  23.1200   34921952        0\n",
       "14041  2017-10-19  23.1400  23.7800  23.0500  23.5800   75252269        0\n",
       "14042  2017-10-20  22.1400  23.8400  22.1000  23.8300  192116257        0\n",
       "14043  2017-10-23  23.4400  23.4400  22.1800  22.3200  187258901        0\n",
       "14044  2017-10-24  22.1200  22.3100  21.7500  21.8900  133232811        0\n",
       "14045  2017-10-25  21.8400  21.8900  21.3000  21.5000  110406798        0\n",
       "14046  2017-10-26  21.5700  21.6500  21.2000  21.3200   85588279        0\n",
       "14047  2017-10-27  21.2600  21.3000  20.6400  20.7900   98473460        0\n",
       "14048  2017-10-30  20.5800  20.7200  20.2600  20.4100   98376937        0\n",
       "14049  2017-10-31  20.2600  20.4000  20.0500  20.1600   97991348        0\n",
       "14050  2017-11-01  20.0700  20.5200  19.9600  20.0200   91707602        0\n",
       "14051  2017-11-02  20.0500  20.0750  19.6300  19.9400   81528545        0\n",
       "14052  2017-11-03  19.9200  20.3300  19.8600  20.1400   67855385        0\n",
       "14053  2017-11-06  20.5200  20.5300  20.0800  20.1300   60641787        0\n",
       "14054  2017-11-07  20.1700  20.2500  20.1200  20.2100   41622851        0\n",
       "14055  2017-11-08  20.2100  20.3200  20.0700  20.1200   39672190        0\n",
       "14056  2017-11-09  20.0400  20.0710  19.8500  19.9900   50831779        0\n",
       "14057  2017-11-10  19.9800  20.6800  19.9000  20.4900  100698474        0\n",
       "\n",
       "[14058 rows x 7 columns]"
      ]
     },
     "execution_count": 180,
     "metadata": {},
     "output_type": "execute_result"
    }
   ],
   "source": [
    "data.keys()\n",
    "data"
   ]
  },
  {
   "cell_type": "code",
   "execution_count": 43,
   "metadata": {},
   "outputs": [
    {
     "data": {
      "image/png": "[encoded data removed]",
      "text/plain": [
       "<Figure size 432x288 with 1 Axes>"
      ]
     },
     "metadata": {
      "needs_background": "light"
     },
     "output_type": "display_data"
    }
   ],
   "source": [
    "from matplotlib import pyplot as plt\n",
    "%matplotlib inline\n",
    "plt.plot(data['High'])\n",
    "plt.show()"
   ]
  },
  {
   "cell_type": "markdown",
   "metadata": {},
   "source": [
    "## Normalize Data\n",
    "Because e.g. Volume are very large numbers that might affect the outcome."
   ]
  },
  {
   "cell_type": "code",
   "execution_count": 181,
   "metadata": {},
   "outputs": [
    {
     "name": "stdout",
     "output_type": "stream",
     "text": [
      "Train and Test size 11246 2812\n"
     ]
    }
   ],
   "source": [
    "from sklearn.preprocessing import MinMaxScaler\n",
    "from sklearn.model_selection import train_test_split\n",
    "\n",
    "train_cols = data.keys()\n",
    "train_cols = train_cols.drop('Date')  # The dates are not relevant, only time series matters\n",
    "train_cols = train_cols.drop('OpenInt')  # OpenInt is always = 0\n",
    "train_cols = train_cols.drop('Close')  # Close (t) = Open(t-1)\n",
    "df_train, df_test = train_test_split(data, train_size=0.8, test_size=0.2, shuffle=False)\n",
    "print(\"Train and Test size\", len(df_train), len(df_test))\n",
    "\n",
    "# scale the feature MinMax, build array\n",
    "x = df_train.loc[:,train_cols].values\n",
    "min_max_scaler = MinMaxScaler()\n",
    "x_train_raw = min_max_scaler.fit_transform(x)\n",
    "x_test_raw = min_max_scaler.transform(df_test.loc[:,train_cols])"
   ]
  },
  {
   "cell_type": "markdown",
   "metadata": {},
   "source": [
    "## Input data\n",
    "The input data is split into time steps for every day in the dataset. And at each time step we feed all the available information of that day. Which means we feed all the values of all keys.\n",
    "The number of keys is the number of features."
   ]
  },
  {
   "cell_type": "code",
   "execution_count": 182,
   "metadata": {},
   "outputs": [
    {
     "data": {
      "text/plain": [
       "(2812, 4)"
      ]
     },
     "execution_count": 182,
     "metadata": {},
     "output_type": "execute_result"
    }
   ],
   "source": [
    "x_test_raw.shape"
   ]
  },
  {
   "cell_type": "markdown",
   "metadata": {},
   "source": [
    "## Build time series\n",
    "This step makes the problem a supervised problem. We have to ask ourselfs first, how many days we want to feed into the NN to predict the next day. Let's assume we would like to feed always 10 days into the NN and predict the 11th day. Therefore we need to split our dataset into tensors that contain the features of 10 days and at the same time we need a label for this input tensor which contains the features of the 11th day.\n",
    "\n",
    "Let's call the length of the time series `NUMBER_OF_STEPS`"
   ]
  },
  {
   "cell_type": "code",
   "execution_count": 183,
   "metadata": {},
   "outputs": [],
   "source": [
    "def build_timeseries(input_tensor, TIME_STEPS):\n",
    "    # the column TIME_STEPS+1 is the column that would act as output column (label)\n",
    "    # total number of time-series samples would be len(input_tensor) - TIME_STEPS\n",
    "    dim_nr_series = input_tensor.shape[0] - TIME_STEPS\n",
    "    dim_feature = input_tensor.shape[1]\n",
    "    x = np.zeros((dim_nr_series, TIME_STEPS, dim_feature)) #input is set of nr of series, with n times steps and k features\n",
    "    y = np.zeros((dim_nr_series, dim_feature)) # y should be dim nr of series, k features. For TIME_STEP+1\n",
    "    print(y.shape)\n",
    "    print(input_tensor.shape)\n",
    "    for i in range(dim_nr_series):\n",
    "        x[i] = input_tensor[i:TIME_STEPS+i]\n",
    "        y[i] = input_tensor[TIME_STEPS+i]\n",
    "    print(\"length of time-series i/o\",x.shape,y.shape)\n",
    "    return x, y"
   ]
  },
  {
   "cell_type": "code",
   "execution_count": 184,
   "metadata": {},
   "outputs": [
    {
     "name": "stdout",
     "output_type": "stream",
     "text": [
      "(11236, 4)\n",
      "(11246, 4)\n",
      "length of time-series i/o (11236, 10, 4) (11236, 4)\n",
      "[0.00289013 0.00285047 0.00306629 0.01267147]\n",
      "(2802, 4)\n",
      "(2812, 4)\n",
      "length of time-series i/o (2802, 10, 4) (2802, 4)\n"
     ]
    }
   ],
   "source": [
    "NUMBER_OF_STEPS = 10\n",
    "x_train, y_train = build_timeseries(x_train_raw, NUMBER_OF_STEPS)\n",
    "print(y_train[0])\n",
    "x_test, y_test = build_timeseries(x_test_raw, NUMBER_OF_STEPS)"
   ]
  },
  {
   "cell_type": "markdown",
   "metadata": {},
   "source": [
    "## Define Model"
   ]
  },
  {
   "cell_type": "code",
   "execution_count": 185,
   "metadata": {},
   "outputs": [
    {
     "name": "stdout",
     "output_type": "stream",
     "text": [
      "LSTM(\n",
      "  (lstm): LSTM(5, 5, num_layers=2, batch_first=True)\n",
      "  (linear): Linear(in_features=5, out_features=5, bias=True)\n",
      ")\n"
     ]
    }
   ],
   "source": [
    "import sys\n",
    "import torch\n",
    "import torch.nn as nn\n",
    "from torch.autograd import Variable\n",
    "\n",
    "class LSTM(nn.Module):\n",
    "\n",
    "    def __init__(self, input_dim, feature_dim, output_dim=1,\n",
    "                    num_layers=2):\n",
    "        super(LSTM, self).__init__()\n",
    "        self.input_dim = input_dim\n",
    "        self.feature_dim = feature_dim\n",
    "        self.num_layers = num_layers\n",
    "\n",
    "        # Define the LSTM layer\n",
    "        self.lstm = nn.LSTM(self.input_dim, self.feature_dim, self.num_layers, batch_first = True)\n",
    "\n",
    "        # Define the output layer\n",
    "        self.linear = nn.Linear(self.feature_dim, output_dim)\n",
    "\n",
    "    def init_hidden(self):\n",
    "        # This is what we'll initialise our hidden state as\n",
    "        return (torch.zeros(self.num_layers, self.batch_size, self.hidden_dim),\n",
    "                torch.zeros(self.num_layers, self.batch_size, self.hidden_dim))\n",
    "\n",
    "    def forward(self, input):\n",
    "        # Forward pass through LSTM layer\n",
    "        # shape of lstm_out: [batch_size, input_size, hidden_dim]\n",
    "        # shape of self.hidden: (a, b), where a and b both \n",
    "        # have shape (batch_size, num_layers, hidden_dim).\n",
    "        lstm_out, self.hidden = self.lstm(input)\n",
    "        \n",
    "        # Only take the output from the final timetep\n",
    "        # Can pass on the entirety of lstm_out to the next layer if it is a seq2seq prediction\n",
    "        y_pred = self.linear(lstm_out[:,-1])\n",
    "        return y_pred\n",
    "\n",
    "model = LSTM(lstm_input_size, feature_dim, output_dim=output_dim, num_layers=num_layers)\n",
    "print(model)"
   ]
  },
  {
   "cell_type": "markdown",
   "metadata": {},
   "source": [
    "## Test model step by step"
   ]
  },
  {
   "cell_type": "code",
   "execution_count": 186,
   "metadata": {},
   "outputs": [
    {
     "name": "stdout",
     "output_type": "stream",
     "text": [
      "torch.Size([11236, 10, 4])\n"
     ]
    },
    {
     "ename": "RuntimeError",
     "evalue": "input.size(-1) must be equal to input_size. Expected 5, got 4",
     "output_type": "error",
     "traceback": [
      "\u001b[0;31m-------------------------------------------------\u001b[0m",
      "\u001b[0;31mRuntimeError\u001b[0m    Traceback (most recent call last)",
      "\u001b[0;32m<ipython-input-186-4b4d0888e949>\u001b[0m in \u001b[0;36m<module>\u001b[0;34m\u001b[0m\n\u001b[1;32m      3\u001b[0m \u001b[0mx_torch\u001b[0m \u001b[0;34m=\u001b[0m \u001b[0mtorch\u001b[0m\u001b[0;34m.\u001b[0m\u001b[0mTensor\u001b[0m\u001b[0;34m(\u001b[0m\u001b[0mx_train\u001b[0m\u001b[0;34m)\u001b[0m\u001b[0;34m\u001b[0m\u001b[0;34m\u001b[0m\u001b[0m\n\u001b[1;32m      4\u001b[0m \u001b[0mprint\u001b[0m\u001b[0;34m(\u001b[0m\u001b[0mx_torch\u001b[0m\u001b[0;34m.\u001b[0m\u001b[0mshape\u001b[0m\u001b[0;34m)\u001b[0m\u001b[0;34m\u001b[0m\u001b[0;34m\u001b[0m\u001b[0m\n\u001b[0;32m----> 5\u001b[0;31m \u001b[0mout\u001b[0m\u001b[0;34m,\u001b[0m \u001b[0mhidden\u001b[0m \u001b[0;34m=\u001b[0m \u001b[0mmodel\u001b[0m\u001b[0;34m(\u001b[0m\u001b[0mx_torch\u001b[0m\u001b[0;34m)\u001b[0m\u001b[0;34m\u001b[0m\u001b[0;34m\u001b[0m\u001b[0m\n\u001b[0m\u001b[1;32m      6\u001b[0m \u001b[0mprint\u001b[0m\u001b[0;34m(\u001b[0m\u001b[0mout\u001b[0m\u001b[0;34m[\u001b[0m\u001b[0;34m-\u001b[0m\u001b[0;36m1\u001b[0m\u001b[0;34m]\u001b[0m\u001b[0;34m.\u001b[0m\u001b[0mshape\u001b[0m\u001b[0;34m)\u001b[0m\u001b[0;34m\u001b[0m\u001b[0;34m\u001b[0m\u001b[0m\n\u001b[1;32m      7\u001b[0m \u001b[0mlinear\u001b[0m \u001b[0;34m=\u001b[0m \u001b[0mnn\u001b[0m\u001b[0;34m.\u001b[0m\u001b[0mLinear\u001b[0m\u001b[0;34m(\u001b[0m\u001b[0mfeature_dim\u001b[0m\u001b[0;34m,\u001b[0m \u001b[0moutput_dim\u001b[0m\u001b[0;34m)\u001b[0m\u001b[0;34m\u001b[0m\u001b[0;34m\u001b[0m\u001b[0m\n",
      "\u001b[0;32m~/anaconda3/lib/python3.6/site-packages/torch/nn/modules/module.py\u001b[0m in \u001b[0;36m__call__\u001b[0;34m(self, *input, **kwargs)\u001b[0m\n\u001b[1;32m    487\u001b[0m             \u001b[0mresult\u001b[0m \u001b[0;34m=\u001b[0m \u001b[0mself\u001b[0m\u001b[0;34m.\u001b[0m\u001b[0m_slow_forward\u001b[0m\u001b[0;34m(\u001b[0m\u001b[0;34m*\u001b[0m\u001b[0minput\u001b[0m\u001b[0;34m,\u001b[0m \u001b[0;34m**\u001b[0m\u001b[0mkwargs\u001b[0m\u001b[0;34m)\u001b[0m\u001b[0;34m\u001b[0m\u001b[0;34m\u001b[0m\u001b[0m\n\u001b[1;32m    488\u001b[0m         \u001b[0;32melse\u001b[0m\u001b[0;34m:\u001b[0m\u001b[0;34m\u001b[0m\u001b[0;34m\u001b[0m\u001b[0m\n\u001b[0;32m--> 489\u001b[0;31m             \u001b[0mresult\u001b[0m \u001b[0;34m=\u001b[0m \u001b[0mself\u001b[0m\u001b[0;34m.\u001b[0m\u001b[0mforward\u001b[0m\u001b[0;34m(\u001b[0m\u001b[0;34m*\u001b[0m\u001b[0minput\u001b[0m\u001b[0;34m,\u001b[0m \u001b[0;34m**\u001b[0m\u001b[0mkwargs\u001b[0m\u001b[0;34m)\u001b[0m\u001b[0;34m\u001b[0m\u001b[0;34m\u001b[0m\u001b[0m\n\u001b[0m\u001b[1;32m    490\u001b[0m         \u001b[0;32mfor\u001b[0m \u001b[0mhook\u001b[0m \u001b[0;32min\u001b[0m \u001b[0mself\u001b[0m\u001b[0;34m.\u001b[0m\u001b[0m_forward_hooks\u001b[0m\u001b[0;34m.\u001b[0m\u001b[0mvalues\u001b[0m\u001b[0;34m(\u001b[0m\u001b[0;34m)\u001b[0m\u001b[0;34m:\u001b[0m\u001b[0;34m\u001b[0m\u001b[0;34m\u001b[0m\u001b[0m\n\u001b[1;32m    491\u001b[0m             \u001b[0mhook_result\u001b[0m \u001b[0;34m=\u001b[0m \u001b[0mhook\u001b[0m\u001b[0;34m(\u001b[0m\u001b[0mself\u001b[0m\u001b[0;34m,\u001b[0m \u001b[0minput\u001b[0m\u001b[0;34m,\u001b[0m \u001b[0mresult\u001b[0m\u001b[0;34m)\u001b[0m\u001b[0;34m\u001b[0m\u001b[0;34m\u001b[0m\u001b[0m\n",
      "\u001b[0;32m~/anaconda3/lib/python3.6/site-packages/torch/nn/modules/rnn.py\u001b[0m in \u001b[0;36mforward\u001b[0;34m(self, input, hx)\u001b[0m\n\u001b[1;32m    173\u001b[0m                 \u001b[0mhx\u001b[0m \u001b[0;34m=\u001b[0m \u001b[0;34m(\u001b[0m\u001b[0mhx\u001b[0m\u001b[0;34m,\u001b[0m \u001b[0mhx\u001b[0m\u001b[0;34m)\u001b[0m\u001b[0;34m\u001b[0m\u001b[0;34m\u001b[0m\u001b[0m\n\u001b[1;32m    174\u001b[0m \u001b[0;34m\u001b[0m\u001b[0m\n\u001b[0;32m--> 175\u001b[0;31m         \u001b[0mself\u001b[0m\u001b[0;34m.\u001b[0m\u001b[0mcheck_forward_args\u001b[0m\u001b[0;34m(\u001b[0m\u001b[0minput\u001b[0m\u001b[0;34m,\u001b[0m \u001b[0mhx\u001b[0m\u001b[0;34m,\u001b[0m \u001b[0mbatch_sizes\u001b[0m\u001b[0;34m)\u001b[0m\u001b[0;34m\u001b[0m\u001b[0;34m\u001b[0m\u001b[0m\n\u001b[0m\u001b[1;32m    176\u001b[0m         \u001b[0m_impl\u001b[0m \u001b[0;34m=\u001b[0m \u001b[0m_rnn_impls\u001b[0m\u001b[0;34m[\u001b[0m\u001b[0mself\u001b[0m\u001b[0;34m.\u001b[0m\u001b[0mmode\u001b[0m\u001b[0;34m]\u001b[0m\u001b[0;34m\u001b[0m\u001b[0;34m\u001b[0m\u001b[0m\n\u001b[1;32m    177\u001b[0m         \u001b[0;32mif\u001b[0m \u001b[0mbatch_sizes\u001b[0m \u001b[0;32mis\u001b[0m \u001b[0;32mNone\u001b[0m\u001b[0;34m:\u001b[0m\u001b[0;34m\u001b[0m\u001b[0;34m\u001b[0m\u001b[0m\n",
      "\u001b[0;32m~/anaconda3/lib/python3.6/site-packages/torch/nn/modules/rnn.py\u001b[0m in \u001b[0;36mcheck_forward_args\u001b[0;34m(self, input, hidden, batch_sizes)\u001b[0m\n\u001b[1;32m    133\u001b[0m             raise RuntimeError(\n\u001b[1;32m    134\u001b[0m                 'input.size(-1) must be equal to input_size. Expected {}, got {}'.format(\n\u001b[0;32m--> 135\u001b[0;31m                     self.input_size, input.size(-1)))\n\u001b[0m\u001b[1;32m    136\u001b[0m \u001b[0;34m\u001b[0m\u001b[0m\n\u001b[1;32m    137\u001b[0m         \u001b[0;32mif\u001b[0m \u001b[0mis_input_packed\u001b[0m\u001b[0;34m:\u001b[0m\u001b[0;34m\u001b[0m\u001b[0;34m\u001b[0m\u001b[0m\n",
      "\u001b[0;31mRuntimeError\u001b[0m: input.size(-1) must be equal to input_size. Expected 5, got 4"
     ]
    }
   ],
   "source": [
    "num_layers = 1 # This is a hyperparameter I think...\n",
    "model = nn.LSTM(lstm_input_size, feature_dim, num_layers, batch_first = True)\n",
    "x_torch = torch.Tensor(x_train)\n",
    "print(x_torch.shape)\n",
    "out, hidden = model(x_torch)\n",
    "print(out[-1].shape)\n",
    "linear = nn.Linear(feature_dim, output_dim)\n",
    "y = linear(out[:,-1]) # take whole batch but only last vector of time sequence.\n",
    "print(y.shape)"
   ]
  },
  {
   "cell_type": "markdown",
   "metadata": {},
   "source": [
    "## Train model"
   ]
  },
  {
   "cell_type": "code",
   "execution_count": 218,
   "metadata": {},
   "outputs": [],
   "source": [
    "lstm_input_size = 4\n",
    "feature_dim = 4\n",
    "batch_size = 32\n",
    "output_dim = feature_dim\n",
    "num_layers = 10\n",
    "\n",
    "num_epochs = 10\n",
    "learning_rate = 0.001"
   ]
  },
  {
   "cell_type": "markdown",
   "metadata": {},
   "source": [
    "## We need put the data in a Dataset and then make a data generator for easier training"
   ]
  },
  {
   "cell_type": "code",
   "execution_count": 219,
   "metadata": {},
   "outputs": [],
   "source": [
    "from torch.utils.data.dataset import Dataset\n",
    "\n",
    "class DatasetCustom(Dataset):\n",
    "    \n",
    "    def __init__(self, img, label, transform=None):\n",
    "        self.transform = transform\n",
    "        self.img = img\n",
    "        self.label = label\n",
    "        \n",
    "    def __len__(self):\n",
    "        return self.img.shape[0]\n",
    "    \n",
    "    def __getitem__(self, index):\n",
    "        # load image as ndarray type (Height * Width * Channels)\n",
    "        # be carefull for converting dtype to np.uint8 [Unsigned integer (0 to 255)]\n",
    "        # in this example, i don't use ToTensor() method of torchvision.transforms\n",
    "        # so you can convert numpy ndarray shape to tensor in PyTorch (H, W, C) --> (C, H, W)\n",
    "        image = self.img[index]\n",
    "        \n",
    "        if self.transform is not None:\n",
    "            image = self.transform(image)\n",
    "            \n",
    "        return image, self.label[index] "
   ]
  },
  {
   "cell_type": "code",
   "execution_count": 189,
   "metadata": {},
   "outputs": [
    {
     "name": "stdout",
     "output_type": "stream",
     "text": [
      "torch.Size([11236, 10, 4]) torch.Size([11236, 4])\n"
     ]
    },
    {
     "data": {
      "text/plain": [
       "torch.Size([32, 4])"
      ]
     },
     "execution_count": 189,
     "metadata": {},
     "output_type": "execute_result"
    }
   ],
   "source": [
    "import torch.utils.data\n",
    "x_tr, y_tr = torch.Tensor(x_train), torch.Tensor(y_train)\n",
    "dataset =   DatasetCustom(x_tr, y_tr) \n",
    "training_generator = torch.utils.data.DataLoader(dataset, batch_size=32, shuffle=True)\n",
    "print(x_tr.shape, y_tr.shape)\n",
    "next(iter(training_generator))[1].shape"
   ]
  },
  {
   "cell_type": "code",
   "execution_count": 220,
   "metadata": {},
   "outputs": [],
   "source": [
    "model = LSTM(lstm_input_size, feature_dim, output_dim=feature_dim, num_layers=num_layers)\n",
    "loss_fn = torch.nn.MSELoss(reduction='sum')\n",
    "optimiser = torch.optim.Adam(model.parameters(), lr=learning_rate)"
   ]
  },
  {
   "cell_type": "code",
   "execution_count": 221,
   "metadata": {},
   "outputs": [
    {
     "name": "stdout",
     "output_type": "stream",
     "text": [
      "10\n",
      "Epoch  0 MSE:  0.4413459002971649\n",
      "Epoch  1 MSE:  0.09709317982196808\n",
      "Epoch  2 MSE:  0.02044581063091755\n",
      "Epoch  3 MSE:  0.015472603030502796\n",
      "Epoch  4 MSE:  0.06974542140960693\n",
      "Epoch  5 MSE:  0.003414563834667206\n",
      "Epoch  6 MSE:  0.01395118422806263\n",
      "Epoch  7 MSE:  0.047151871025562286\n",
      "Epoch  8 MSE:  0.0368722602725029\n",
      "Epoch  9 MSE:  0.03263392299413681\n"
     ]
    }
   ],
   "source": [
    "hist = np.zeros(num_epochs)\n",
    "print(num_epochs)\n",
    "for t in range(num_epochs):\n",
    "    # Clear stored gradient\n",
    "    \n",
    "    for x, y in training_generator:\n",
    "        model.zero_grad()\n",
    "\n",
    "        # Initialise hidden state\n",
    "        # Don't do this if you want your LSTM to be stateful\n",
    "        # model.hidden = model.init_hidden()\n",
    "\n",
    "        # Forward pass\n",
    "        y_pred = model(x)\n",
    "\n",
    "        loss = loss_fn(y_pred, y)\n",
    "        hist[t] = loss.item()\n",
    "\n",
    "        # Zero out gradient, else they will accumulate between epochs\n",
    "        optimiser.zero_grad()\n",
    "\n",
    "        # Backward pass\n",
    "        loss.backward()\n",
    "\n",
    "        # Update parameters\n",
    "        optimiser.step()\n",
    "    total_loss = loss_fn(model(x_tr), y_tr)    \n",
    "    print(\"Epoch \", t, \"MSE: \", loss.item())   "
   ]
  },
  {
   "cell_type": "markdown",
   "metadata": {},
   "source": [
    "# Evaluate Training accuracy"
   ]
  },
  {
   "cell_type": "markdown",
   "metadata": {},
   "source": [
    "## Calculate Test loss"
   ]
  },
  {
   "cell_type": "code",
   "execution_count": 222,
   "metadata": {},
   "outputs": [
    {
     "name": "stdout",
     "output_type": "stream",
     "text": [
      "1150.62158203125\n",
      "torch.Size([2802, 4])\n"
     ]
    }
   ],
   "source": [
    "y_pred = model(torch.Tensor(x_test))\n",
    "y_te = torch.Tensor(y_test)\n",
    "total_loss = loss_fn(y_pred, y_te)  \n",
    "print(total_loss.item())\n",
    "print(y_pred.shape)"
   ]
  },
  {
   "cell_type": "markdown",
   "metadata": {},
   "source": [
    "## Compare prediction with actual data"
   ]
  },
  {
   "cell_type": "code",
   "execution_count": 223,
   "metadata": {},
   "outputs": [
    {
     "name": "stdout",
     "output_type": "stream",
     "text": [
      "Index(['Date', 'Open', 'High', 'Low', 'Close', 'Volume', 'OpenInt'], dtype='object')\n",
      "(2812, 4)\n"
     ]
    },
    {
     "data": {
      "image/png": "[encoded data removed]",
      "text/plain": [
       "<Figure size 432x288 with 1 Axes>"
      ]
     },
     "metadata": {
      "needs_background": "light"
     },
     "output_type": "display_data"
    },
    {
     "data": {
      "image/png": "[encoded data removed]",
      "text/plain": [
       "<Figure size 432x288 with 1 Axes>"
      ]
     },
     "metadata": {
      "needs_background": "light"
     },
     "output_type": "display_data"
    },
    {
     "data": {
      "image/png": "[encoded data removed]",
      "text/plain": [
       "<Figure size 432x288 with 1 Axes>"
      ]
     },
     "metadata": {
      "needs_background": "light"
     },
     "output_type": "display_data"
    },
    {
     "data": {
      "image/png": "[encoded data removed]",
      "text/plain": [
       "<Figure size 432x288 with 1 Axes>"
      ]
     },
     "metadata": {
      "needs_background": "light"
     },
     "output_type": "display_data"
    },
    {
     "data": {
      "image/png": "[encoded data removed]",
      "text/plain": [
       "<Figure size 432x288 with 1 Axes>"
      ]
     },
     "metadata": {
      "needs_background": "light"
     },
     "output_type": "display_data"
    },
    {
     "data": {
      "image/png": "[encoded data removed]",
      "text/plain": [
       "<Figure size 432x288 with 1 Axes>"
      ]
     },
     "metadata": {
      "needs_background": "light"
     },
     "output_type": "display_data"
    },
    {
     "data": {
      "image/png": "[encoded data removed]",
      "text/plain": [
       "<Figure size 432x288 with 1 Axes>"
      ]
     },
     "metadata": {
      "needs_background": "light"
     },
     "output_type": "display_data"
    },
    {
     "data": {
      "image/png": "[encoded data removed]",
      "text/plain": [
       "<Figure size 432x288 with 1 Axes>"
      ]
     },
     "metadata": {
      "needs_background": "light"
     },
     "output_type": "display_data"
    }
   ],
   "source": [
    "print(data.keys())\n",
    "print(x_test_raw.shape)\n",
    "for i in range(feature_dim):\n",
    "    plt.plot(x_test_raw[10:,i]) # First 10 we don't have predictions\n",
    "    plt.show()\n",
    "    plt.plot(y_pred.detach().numpy()[:,i])\n",
    "    plt.show()"
   ]
  },
  {
   "cell_type": "markdown",
   "metadata": {},
   "source": [
    "## See if algorithm predicts increase or decrease in stock price accurately.\n",
    "First we would like to know if we can predict that the stock price goes up or down next day.\n",
    "\n",
    "The direction vector contains `-1` if the stock price is lower at time step `t+1` than at time `t`. And `+1` if the price goes up."
   ]
  },
  {
   "cell_type": "code",
   "execution_count": 230,
   "metadata": {},
   "outputs": [],
   "source": [
    "index = 3\n",
    "grads_test = []\n",
    "grads_pred = []\n",
    "x = x_test_raw[10:,index]\n",
    "y = y_pred.detach().numpy()[:,index]\n",
    "for j in range(x.shape[0]-1):\n",
    "    grads_test.append(x[j+1]-x[j])\n",
    "    grads_pred.append(y[j+1]-y[j])\n",
    "direction_test = (np.array(grads_test)>0)*2-1    \n",
    "direction_pred = (np.array(grads_pred)>0)*2-1 "
   ]
  },
  {
   "cell_type": "markdown",
   "metadata": {},
   "source": [
    "## Compare prediction with test set.\n",
    "multiply the directions if the product is negative the prediction does not sgree with the data."
   ]
  },
  {
   "cell_type": "code",
   "execution_count": 231,
   "metadata": {},
   "outputs": [
    {
     "data": {
      "text/plain": [
       "{-1: 1389, 1: 1412}"
      ]
     },
     "execution_count": 231,
     "metadata": {},
     "output_type": "execute_result"
    }
   ],
   "source": [
    "product = direction_test*direction_pred\n",
    "unique, counts = np.unique(product, return_counts=True)\n",
    "dict(zip(unique, counts))"
   ]
  },
  {
   "cell_type": "code",
   "execution_count": 236,
   "metadata": {},
   "outputs": [
    {
     "name": "stdout",
     "output_type": "stream",
     "text": [
      "the prediction accuracy for falling and increasing stock prices is 50.41 percent\n"
     ]
    }
   ],
   "source": [
    "print('the prediction accuracy for falling and increasing stock prices is {} percent'.format(np.round(counts[1]/np.sum(counts)*100, decimals=2)))"
   ]
  }
 ],
 "metadata": {
  "kernelspec": {
   "display_name": "Python 3",
   "language": "python",
   "name": "python3"
  },
  "language_info": {
   "codemirror_mode": {
    "name": "ipython",
    "version": 3
   },
   "file_extension": ".py",
   "mimetype": "text/x-python",
   "name": "python",
   "nbconvert_exporter": "python",
   "pygments_lexer": "ipython3",
   "version": "3.6.7"
  }
 },
 "nbformat": 4,
 "nbformat_minor": 2
}
