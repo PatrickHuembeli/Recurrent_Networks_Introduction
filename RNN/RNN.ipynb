{
 "cells": [
  {
   "cell_type": "markdown",
   "metadata": {},
   "source": [
    "## Testing RNN\n",
    "\n",
    "This file contains mostly code from the introduction on [Medium](https://medium.com/dair-ai/building-rnns-is-fun-with-pytorch-and-google-colab-3903ea9a3a79)"
   ]
  },
  {
   "cell_type": "code",
   "execution_count": 1,
   "metadata": {},
   "outputs": [],
   "source": [
    "import torch\n",
    "import torch.nn as nn\n",
    "import torch.nn.functional as F\n",
    "import os\n",
    "import numpy as np"
   ]
  },
  {
   "cell_type": "markdown",
   "metadata": {},
   "source": [
    "## Single Recurrent Neural Network"
   ]
  },
  {
   "cell_type": "code",
   "execution_count": 14,
   "metadata": {},
   "outputs": [],
   "source": [
    "class SingleRNN(nn.Module):\n",
    "    def __init__(self, n_inputs, n_neurons):\n",
    "        super(SingleRNN, self).__init__()\n",
    "        \n",
    "        self.Wx = torch.randn(n_inputs, n_neurons) # 4 X 1 Defines input weights\n",
    "        self.Wy = torch.randn(n_neurons, n_neurons) # 1 X 1 defines weights between time series\n",
    "        \n",
    "        self.b = torch.zeros(1, n_neurons) # 1 X 4 Defines biases of inputs\n",
    "    \n",
    "    def forward(self, X0, X1):\n",
    "        self.Y0 = torch.tanh(torch.mm(X0, self.Wx) + self.b) # 4 X 1\n",
    "        \n",
    "        self.Y1 = torch.tanh(torch.mm(self.Y0, self.Wy) +\n",
    "                            torch.mm(X1, self.Wx) + self.b) # 4 X 1\n",
    "        \n",
    "        return self.Y0, self.Y1"
   ]
  },
  {
   "cell_type": "markdown",
   "metadata": {},
   "source": [
    "<img src=\"RNN_img.png\"/>"
   ]
  },
  {
   "cell_type": "markdown",
   "metadata": {},
   "source": [
    "## Test Model with one neuron"
   ]
  },
  {
   "cell_type": "code",
   "execution_count": 15,
   "metadata": {},
   "outputs": [],
   "source": [
    "N_INPUT = 4 # Input dim\n",
    "N_NEURONS = 1\n",
    "\n",
    "X0_batch = torch.tensor([[0,1,2,0], [3,4,5,0], \n",
    "                         [6,7,8,0], [9,0,1,0]],\n",
    "                        dtype = torch.float) #t=0 => 4 X 4\n",
    "\n",
    "X1_batch = torch.tensor([[9,8,7,0], [0,0,0,0], \n",
    "                         [6,5,4,0], [3,2,1,0]],\n",
    "                        dtype = torch.float) #t=1 => 4 X 4\n",
    "\n",
    "model = SingleRNN(N_INPUT, N_NEURONS)\n",
    "\n",
    "Y0_val, Y1_val = model(X0_batch, X1_batch)"
   ]
  },
  {
   "cell_type": "code",
   "execution_count": 16,
   "metadata": {},
   "outputs": [
    {
     "name": "stdout",
     "output_type": "stream",
     "text": [
      "tensor([[ 0.9664],\n",
      "        [ 0.9998],\n",
      "        [ 1.0000],\n",
      "        [-0.5101]]) tensor([[1.0000],\n",
      "        [0.5358],\n",
      "        [0.9989],\n",
      "        [0.2595]])\n"
     ]
    }
   ],
   "source": [
    "print(Y0_val, Y1_val)"
   ]
  },
  {
   "cell_type": "markdown",
   "metadata": {},
   "source": [
    "## Model with many neurons"
   ]
  },
  {
   "cell_type": "markdown",
   "metadata": {},
   "source": [
    "<img src=\"RNN_img2.png\"/>"
   ]
  },
  {
   "cell_type": "code",
   "execution_count": 17,
   "metadata": {},
   "outputs": [],
   "source": [
    "N_INPUT = 3 # number of features in input\n",
    "N_NEURONS = 5 # number of units in layer\n",
    "\n",
    "X0_batch = torch.tensor([[0,1,2], [3,4,5], \n",
    "                         [6,7,8], [9,0,1]],\n",
    "                        dtype = torch.float) #t=0 => 4 X 3\n",
    "\n",
    "X1_batch = torch.tensor([[9,8,7], [0,0,0], \n",
    "                         [6,5,4], [3,2,1]],\n",
    "                        dtype = torch.float) #t=1 => 4 X 3\n",
    "\n",
    "model = SingleRNN(N_INPUT, N_NEURONS)\n",
    "\n",
    "Y0_val, Y1_val = model(X0_batch, X1_batch)"
   ]
  },
  {
   "cell_type": "markdown",
   "metadata": {},
   "source": [
    "## Write general RNN with N time_steps\n",
    "\n",
    "The RNNCell is a pytorch function, that handels the weight matrices by itself."
   ]
  },
  {
   "cell_type": "code",
   "execution_count": 18,
   "metadata": {},
   "outputs": [
    {
     "name": "stdout",
     "output_type": "stream",
     "text": [
      "[tensor([[ 0.0513, -0.5216,  0.7115, -0.8208, -0.5552],\n",
      "        [-0.1247, -0.7843,  0.7987, -0.8954, -0.9682],\n",
      "        [-0.9959, -0.5484,  0.7341, -0.9217, -0.8594],\n",
      "        [ 0.8855,  0.9299, -0.9548,  0.9903, -0.9878]], grad_fn=<TanhBackward>), tensor([[ 0.1819, -0.2414,  0.9283,  0.3014, -0.9850],\n",
      "        [ 0.9093, -0.2167,  0.3887, -0.0421, -0.2961],\n",
      "        [ 0.5842,  0.0397,  0.7662,  0.2752, -0.9704],\n",
      "        [ 0.8072, -0.4158,  0.4931,  0.2239, -0.7348]], grad_fn=<TanhBackward>)]\n",
      "tensor([[ 0.1819, -0.2414,  0.9283,  0.3014, -0.9850],\n",
      "        [ 0.9093, -0.2167,  0.3887, -0.0421, -0.2961],\n",
      "        [ 0.5842,  0.0397,  0.7662,  0.2752, -0.9704],\n",
      "        [ 0.8072, -0.4158,  0.4931,  0.2239, -0.7348]], grad_fn=<TanhBackward>)\n"
     ]
    }
   ],
   "source": [
    "class CleanBasicRNN(nn.Module):\n",
    "    def __init__(self, batch_size, n_inputs, n_neurons, n_time_steps):\n",
    "        super(CleanBasicRNN, self).__init__()\n",
    "        \n",
    "        self.rnn = nn.RNNCell(n_inputs, n_neurons)\n",
    "        self.hx = torch.randn(batch_size, n_neurons) # initialize hidden state\n",
    "        self.n_time_steps = n_time_steps\n",
    "    def forward(self, X):\n",
    "        output = []\n",
    "\n",
    "        # for each time step\n",
    "        for i in range(self.n_time_steps):\n",
    "            self.hx = self.rnn(X[i], self.hx)\n",
    "            output.append(self.hx)\n",
    "        \n",
    "        return output, self.hx\n",
    "\n",
    "FIXED_BATCH_SIZE = 4 # our batch size is fixed for now\n",
    "N_INPUT = 3\n",
    "N_NEURONS = 5\n",
    "\n",
    "X_batch = torch.tensor([[[0,1,2], [3,4,5], \n",
    "                         [6,7,8], [9,0,1]],\n",
    "                        [[9,8,7], [0,0,0], \n",
    "                         [6,5,4], [3,2,1]]\n",
    "                       ], dtype = torch.float) # X0 and X1\n",
    "\n",
    "\n",
    "model = CleanBasicRNN(FIXED_BATCH_SIZE, N_INPUT, N_NEURONS, 2)\n",
    "output_val, states_val = model(X_batch)\n",
    "print(output_val) # contains all output for all timesteps\n",
    "print(states_val) # contains values for final state or final timestep, i.e., t=1"
   ]
  },
  {
   "cell_type": "markdown",
   "metadata": {},
   "source": [
    "## RNNs are well explained in:\n",
    "[youtube link](https://www.youtube.com/watch?v=ogZi5oIo4fI)\n",
    "\n",
    "`hidden_size`in the RNN class is simply the output size of the RNN. Later we can add a fully-connected layer to the RNN output to increase the complexity of the model. \n",
    "\n",
    "`hidden_0` is the initial hidden value. Because it is a recurrent network we already need some value there from the beginning.\n",
    "\n",
    "<img src=\"RNN-unrolled.png\"/>\n",
    "\n",
    "It is important not to confuse $h_t$ with the hidden output. $h_t$ in the end will be the output of the model. E.g. a label or the prediction of the next step in the time series."
   ]
  },
  {
   "cell_type": "code",
   "execution_count": 89,
   "metadata": {},
   "outputs": [
    {
     "name": "stdout",
     "output_type": "stream",
     "text": [
      "torch.Size([1, 5, 100]) torch.Size([1, 1, 100])\n"
     ]
    }
   ],
   "source": [
    "cell = nn.RNN(input_size = 10, hidden_size = 100, batch_first = True)\n",
    "inputs = torch.randn(1, 5, 10)# (batch_size, sequenze_length, inpiut_size)\n",
    "hidden_0 = torch.zeros(1, 1, 100)# (num_layers, batch_size, hidden_size) \n",
    "\n",
    "out, hidden = cell(inputs, hidden_0)\n",
    "\n",
    "print(out.shape, hidden.shape)"
   ]
  },
  {
   "cell_type": "markdown",
   "metadata": {},
   "source": [
    "The output of the RNN is provided at every time step. The hidden output on the other size must be the same dimension as `hidden_0`.\n",
    "\n",
    "## Now let's try the example to learn HELLO from the youtube video\n"
   ]
  },
  {
   "cell_type": "code",
   "execution_count": 91,
   "metadata": {},
   "outputs": [
    {
     "name": "stdout",
     "output_type": "stream",
     "text": [
      "tensor([[[ 0.8001, -0.2796]]])\n"
     ]
    }
   ],
   "source": [
    "h = [1,0,0,0]\n",
    "e = [0,1,0,0]\n",
    "l = [0,0,1,0]\n",
    "o = [0,0,0,1]\n",
    "\n",
    "cell = nn.RNN(input_size = 4, hidden_size = 2, batch_first = True)\n",
    "inputs = torch.Tensor([[h]]) # dim (1,1,4)\n",
    "\n",
    "# init the hidden vector with (num_layers*num_directions, batch_size, hidden_size)\n",
    "hidden = torch.randn(1,1,2)\n",
    "\n",
    "# This is for one step in a RNN\n",
    "out, hidden = cell(inputs,hidden)\n",
    "\n",
    "print(out.data)"
   ]
  },
  {
   "cell_type": "markdown",
   "metadata": {},
   "source": [
    "## This was simply to feed one letter into the RNN\n",
    "Now we would like to feed \"Hello\" into the RNN"
   ]
  },
  {
   "cell_type": "code",
   "execution_count": 93,
   "metadata": {},
   "outputs": [
    {
     "name": "stdout",
     "output_type": "stream",
     "text": [
      "torch.Size([1, 5, 4])\n",
      "tensor([[[ 0.9305, -0.6559],\n",
      "         [-0.9300,  0.0903],\n",
      "         [ 0.7901, -0.8132],\n",
      "         [-0.6055,  0.3513],\n",
      "         [ 0.4348, -0.9057]]])\n"
     ]
    }
   ],
   "source": [
    "inputs = torch.Tensor([[h,e,l,l,o]]) # dim (1,1,4)\n",
    "print(inputs.shape)\n",
    "# init the hidden vector with (num_layers*num_directions, batch_size, hidden_size)\n",
    "hidden = torch.randn(1,1,2)\n",
    "\n",
    "# This is for one step in a RNN\n",
    "out, hidden = cell(inputs,hidden)\n",
    "\n",
    "print(out.data)"
   ]
  },
  {
   "cell_type": "markdown",
   "metadata": {},
   "source": [
    "## If we want to feed several words at a time\n",
    "We need to stack them to batches\n",
    "\n",
    "## Now let's teach the network to say hihello!\n",
    "So far we have chose the output dimension to be 2. In a real world example we would want to predict for example the next letter in a word. Therefore the output dimension has to be equal to the input dimension.\n",
    "\n",
    "First we will need one more letter. Therefor the input and the ouput dimensions will be 5."
   ]
  },
  {
   "cell_type": "code",
   "execution_count": 110,
   "metadata": {},
   "outputs": [],
   "source": [
    "h = [1,0,0,0,0]\n",
    "i = [0,1,0,0,0]\n",
    "e = [0,0,1,0,0]\n",
    "l = [0,0,0,1,0]\n",
    "o = [0,0,0,0,1]\n",
    "\n",
    "# There is an easier way to do this:\n",
    "chars = ['h', 'i', 'e', 'l', 'o']\n",
    "x_data = [0,1,0,2,3,3] #hihell\n",
    "x_one_hot = [[[h,i,h,e,l,l]]]\n",
    "\n",
    "y_data = [1,0,2,3,3,4] #ihello\n",
    "\n",
    "inputs = torch.Tensor(x_one_hot)\n",
    "labels = torch.LongTensor(y_data)\n",
    "\n",
    "num_classes = 5\n",
    "input_size = 5\n",
    "hidden_size = 5\n",
    "batch_size = 1\n",
    "sequence_length = 1 # For the start we do one by one\n",
    "num_layers = 1 # We only have one layer RNN"
   ]
  },
  {
   "cell_type": "markdown",
   "metadata": {},
   "source": [
    "## Define the RNN"
   ]
  },
  {
   "cell_type": "code",
   "execution_count": 158,
   "metadata": {},
   "outputs": [
    {
     "name": "stdout",
     "output_type": "stream",
     "text": [
      "Model(\n",
      "  (rnn): RNN(5, 5, batch_first=True)\n",
      ")\n",
      "predicted string: llllll, epoch: 1, loss: 10.155\n",
      "predicted string: llllll, epoch: 2, loss: 9.137\n",
      "predicted string: llllll, epoch: 3, loss: 8.355\n",
      "predicted string: llllll, epoch: 4, loss: 7.577\n",
      "predicted string: llllll, epoch: 5, loss: 6.876\n",
      "predicted string: lhelll, epoch: 6, loss: 6.327\n",
      "predicted string: ihelll, epoch: 7, loss: 6.014\n",
      "predicted string: ihelll, epoch: 8, loss: 5.787\n",
      "predicted string: ihelll, epoch: 9, loss: 5.477\n",
      "predicted string: ihelll, epoch: 10, loss: 5.274\n",
      "predicted string: ihelll, epoch: 11, loss: 5.041\n",
      "predicted string: ihello, epoch: 12, loss: 4.827\n",
      "predicted string: ihello, epoch: 13, loss: 4.676\n",
      "predicted string: ihello, epoch: 14, loss: 4.550\n",
      "predicted string: ihello, epoch: 15, loss: 4.430\n",
      "predicted string: ihello, epoch: 16, loss: 4.305\n",
      "predicted string: ihello, epoch: 17, loss: 4.164\n",
      "predicted string: ihelll, epoch: 18, loss: 4.003\n",
      "predicted string: ihelll, epoch: 19, loss: 3.860\n",
      "predicted string: ihelll, epoch: 20, loss: 3.879\n",
      "predicted string: ihelll, epoch: 21, loss: 3.768\n",
      "predicted string: ihelll, epoch: 22, loss: 3.642\n",
      "predicted string: ihelll, epoch: 23, loss: 3.599\n",
      "predicted string: ihello, epoch: 24, loss: 3.577\n",
      "predicted string: ihello, epoch: 25, loss: 3.544\n",
      "predicted string: ihello, epoch: 26, loss: 3.498\n",
      "predicted string: ihello, epoch: 27, loss: 3.439\n",
      "predicted string: ihello, epoch: 28, loss: 3.371\n",
      "predicted string: ihello, epoch: 29, loss: 3.303\n",
      "predicted string: ihello, epoch: 30, loss: 3.240\n",
      "predicted string: ihello, epoch: 31, loss: 3.162\n",
      "predicted string: ihello, epoch: 32, loss: 3.147\n",
      "predicted string: ihello, epoch: 33, loss: 3.178\n",
      "predicted string: ihello, epoch: 34, loss: 3.116\n",
      "predicted string: ihello, epoch: 35, loss: 3.042\n",
      "predicted string: ihello, epoch: 36, loss: 3.020\n",
      "predicted string: ihello, epoch: 37, loss: 3.015\n",
      "predicted string: ihello, epoch: 38, loss: 2.998\n",
      "predicted string: ihello, epoch: 39, loss: 2.977\n",
      "predicted string: ihello, epoch: 40, loss: 2.966\n",
      "predicted string: ihello, epoch: 41, loss: 2.961\n",
      "predicted string: ihello, epoch: 42, loss: 2.950\n",
      "predicted string: ihello, epoch: 43, loss: 2.930\n",
      "predicted string: ihello, epoch: 44, loss: 2.904\n",
      "predicted string: ihello, epoch: 45, loss: 2.888\n",
      "predicted string: ihello, epoch: 46, loss: 2.888\n",
      "predicted string: ihello, epoch: 47, loss: 2.879\n",
      "predicted string: ihello, epoch: 48, loss: 2.860\n",
      "predicted string: ihello, epoch: 49, loss: 2.857\n",
      "predicted string: ihello, epoch: 50, loss: 2.859\n",
      "predicted string: ihello, epoch: 51, loss: 2.852\n",
      "predicted string: ihello, epoch: 52, loss: 2.840\n",
      "predicted string: ihello, epoch: 53, loss: 2.834\n",
      "predicted string: ihello, epoch: 54, loss: 2.834\n",
      "predicted string: ihello, epoch: 55, loss: 2.824\n",
      "predicted string: ihello, epoch: 56, loss: 2.817\n",
      "predicted string: ihello, epoch: 57, loss: 2.817\n",
      "predicted string: ihello, epoch: 58, loss: 2.814\n",
      "predicted string: ihello, epoch: 59, loss: 2.808\n",
      "predicted string: ihello, epoch: 60, loss: 2.805\n",
      "predicted string: ihello, epoch: 61, loss: 2.805\n",
      "predicted string: ihello, epoch: 62, loss: 2.801\n",
      "predicted string: ihello, epoch: 63, loss: 2.796\n",
      "predicted string: ihello, epoch: 64, loss: 2.795\n",
      "predicted string: ihello, epoch: 65, loss: 2.793\n",
      "predicted string: ihello, epoch: 66, loss: 2.789\n",
      "predicted string: ihello, epoch: 67, loss: 2.786\n",
      "predicted string: ihello, epoch: 68, loss: 2.786\n",
      "predicted string: ihello, epoch: 69, loss: 2.783\n",
      "predicted string: ihello, epoch: 70, loss: 2.780\n",
      "predicted string: ihello, epoch: 71, loss: 2.780\n",
      "predicted string: ihello, epoch: 72, loss: 2.778\n",
      "predicted string: ihello, epoch: 73, loss: 2.776\n",
      "predicted string: ihello, epoch: 74, loss: 2.775\n",
      "predicted string: ihello, epoch: 75, loss: 2.774\n",
      "predicted string: ihello, epoch: 76, loss: 2.772\n",
      "predicted string: ihello, epoch: 77, loss: 2.770\n",
      "predicted string: ihello, epoch: 78, loss: 2.769\n",
      "predicted string: ihello, epoch: 79, loss: 2.768\n",
      "predicted string: ihello, epoch: 80, loss: 2.766\n",
      "predicted string: ihello, epoch: 81, loss: 2.765\n",
      "predicted string: ihello, epoch: 82, loss: 2.764\n",
      "predicted string: ihello, epoch: 83, loss: 2.763\n",
      "predicted string: ihello, epoch: 84, loss: 2.762\n",
      "predicted string: ihello, epoch: 85, loss: 2.761\n",
      "predicted string: ihello, epoch: 86, loss: 2.759\n",
      "predicted string: ihello, epoch: 87, loss: 2.759\n",
      "predicted string: ihello, epoch: 88, loss: 2.758\n",
      "predicted string: ihello, epoch: 89, loss: 2.757\n",
      "predicted string: ihello, epoch: 90, loss: 2.756\n",
      "predicted string: ihello, epoch: 91, loss: 2.755\n",
      "predicted string: ihello, epoch: 92, loss: 2.754\n",
      "predicted string: ihello, epoch: 93, loss: 2.753\n",
      "predicted string: ihello, epoch: 94, loss: 2.752\n",
      "predicted string: ihello, epoch: 95, loss: 2.751\n",
      "predicted string: ihello, epoch: 96, loss: 2.750\n",
      "predicted string: ihello, epoch: 97, loss: 2.750\n",
      "predicted string: ihello, epoch: 98, loss: 2.749\n",
      "predicted string: ihello, epoch: 99, loss: 2.748\n",
      "predicted string: ihello, epoch: 100, loss: 2.747\n",
      "Learning finished!\n"
     ]
    }
   ],
   "source": [
    "# Lab 12 RNN\n",
    "import sys\n",
    "import torch\n",
    "import torch.nn as nn\n",
    "from torch.autograd import Variable\n",
    "\n",
    "torch.manual_seed(777)  # reproducibility\n",
    "#            0    1    2    3    4\n",
    "idx2char = ['h', 'i', 'e', 'l', 'o']\n",
    "\n",
    "# Teach hihell -> ihello\n",
    "x_data = [0, 1, 0, 2, 3, 3]   # hihell\n",
    "one_hot_lookup = [[1, 0, 0, 0, 0],  # 0\n",
    "                  [0, 1, 0, 0, 0],  # 1\n",
    "                  [0, 0, 1, 0, 0],  # 2\n",
    "                  [0, 0, 0, 1, 0],  # 3\n",
    "                  [0, 0, 0, 0, 1]]  # 4\n",
    "\n",
    "y_data = [1, 0, 2, 3, 3, 4]    # ihello\n",
    "x_one_hot = [one_hot_lookup[x] for x in x_data]\n",
    "\n",
    "# As we have one batch of samples, we will change them to variables only once\n",
    "inputs = Variable(torch.Tensor(x_one_hot))\n",
    "labels = Variable(torch.LongTensor(y_data))\n",
    "\n",
    "num_classes = 5\n",
    "input_size = 5  # one-hot size\n",
    "hidden_size = 5  # output from the RNN. 5 to directly predict one-hot\n",
    "batch_size = 1   # one sentence\n",
    "sequence_length = 1  # One by one\n",
    "num_layers = 1  # one-layer rnn\n",
    "\n",
    "\n",
    "class Model(nn.Module):\n",
    "\n",
    "    def __init__(self):\n",
    "        super(Model, self).__init__()\n",
    "        self.rnn = nn.RNN(input_size=input_size,\n",
    "                          hidden_size=hidden_size, batch_first=True)\n",
    "\n",
    "    def forward(self, hidden, x):\n",
    "        # Reshape input (batch first)\n",
    "        x = x.view(batch_size, sequence_length, input_size)\n",
    "\n",
    "        # Propagate input through RNN\n",
    "        # Input: (batch, seq_len, input_size)\n",
    "        # hidden: (num_layers * num_directions, batch, hidden_size)\n",
    "        out, hidden = self.rnn(x, hidden)\n",
    "        return hidden, out.view(-1, num_classes)\n",
    "\n",
    "    def init_hidden(self):\n",
    "        # Initialize hidden and cell states\n",
    "        # (num_layers * num_directions, batch, hidden_size)\n",
    "        return Variable(torch.zeros(num_layers, batch_size, hidden_size))\n",
    "\n",
    "\n",
    "# Instantiate RNN model\n",
    "model = Model()\n",
    "print(model)\n",
    "\n",
    "# Set loss and optimizer function\n",
    "# CrossEntropyLoss = LogSoftmax + NLLLoss\n",
    "criterion = nn.CrossEntropyLoss()\n",
    "optimizer = torch.optim.Adam(model.parameters(), lr=0.1)\n",
    "# Train the model\n",
    "labels = labels.view(6,1)\n",
    "for epoch in range(100):\n",
    "    optimizer.zero_grad()\n",
    "    loss = 0\n",
    "    hidden = model.init_hidden()\n",
    "\n",
    "    sys.stdout.write(\"predicted string: \")\n",
    "    for input, label in zip(inputs, labels):\n",
    "        hidden, output = model(hidden, input)\n",
    "        val, idx = output.max(1)\n",
    "        sys.stdout.write(idx2char[idx.data[0]])\n",
    "\n",
    "        loss += criterion(output, label)\n",
    "\n",
    "    print(\", epoch: %d, loss: %1.3f\" % (epoch + 1, loss.data))\n",
    "\n",
    "    loss.backward()\n",
    "    optimizer.step()\n",
    "\n",
    "print(\"Learning finished!\")"
   ]
  },
  {
   "cell_type": "markdown",
   "metadata": {},
   "source": [
    "## Now use this model to autofill the sentence.\n",
    "If we feed a \"h\" to the model it will automatically give \"hihello\""
   ]
  },
  {
   "cell_type": "code",
   "execution_count": 301,
   "metadata": {},
   "outputs": [
    {
     "name": "stdout",
     "output_type": "stream",
     "text": [
      "tensor([[[0., 0., 0., 0., 0.]]]) tensor([1., 0., 0., 0., 0.])\n"
     ]
    }
   ],
   "source": [
    "hidden = model.init_hidden()\n",
    "input = inputs[0]\n",
    "print(hidden, input)"
   ]
  },
  {
   "cell_type": "code",
   "execution_count": 310,
   "metadata": {},
   "outputs": [
    {
     "name": "stdout",
     "output_type": "stream",
     "text": [
      "tensor([[[-0.6325, -0.1642, -0.9999, -0.9997,  1.0000]]],\n",
      "       grad_fn=<StackBackward>) tensor([[-0.6325, -0.1642, -0.9999, -0.9997,  1.0000]], grad_fn=<ViewBackward>)\n",
      "tensor([[-0.6325, -0.1642, -0.9999, -0.9997,  1.0000]], grad_fn=<ViewBackward>)\n",
      "o"
     ]
    }
   ],
   "source": [
    "hidden, output = model(hidden, input)\n",
    "print(hidden, output)\n",
    "val, idx = output.max(1)\n",
    "input = output #inputs[idx.data[0]]\n",
    "print(input)\n",
    "\n",
    "sys.stdout.write(idx2char[idx.data[0]])"
   ]
  },
  {
   "cell_type": "code",
   "execution_count": 316,
   "metadata": {},
   "outputs": [
    {
     "name": "stdout",
     "output_type": "stream",
     "text": [
      "h\n",
      "ihello"
     ]
    }
   ],
   "source": [
    "hidden = model.init_hidden()\n",
    "input = inputs[0]\n",
    "print(\"h\")\n",
    "for ins in inputs:\n",
    "    hidden, output = model(hidden, ins)\n",
    "    val, idx = output.max(1)\n",
    "    sys.stdout.write(idx2char[idx.data[0]])"
   ]
  },
  {
   "cell_type": "markdown",
   "metadata": {},
   "source": [
    "## We see that the output actually is not very good. Because the other values are not zero. They are very negative.\n",
    "This will have to be improved"
   ]
  },
  {
   "cell_type": "code",
   "execution_count": null,
   "metadata": {},
   "outputs": [],
   "source": []
  }
 ],
 "metadata": {
  "kernelspec": {
   "display_name": "Python 3",
   "language": "python",
   "name": "python3"
  },
  "language_info": {
   "codemirror_mode": {
    "name": "ipython",
    "version": 3
   },
   "file_extension": ".py",
   "mimetype": "text/x-python",
   "name": "python",
   "nbconvert_exporter": "python",
   "pygments_lexer": "ipython3",
   "version": "3.6.7"
  }
 },
 "nbformat": 4,
 "nbformat_minor": 2
}
